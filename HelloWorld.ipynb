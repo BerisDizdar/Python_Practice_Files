{
 "cells": [
  {
   "cell_type": "code",
   "execution_count": 1,
   "id": "478b9ca4",
   "metadata": {},
   "outputs": [
    {
     "name": "stdout",
     "output_type": "stream",
     "text": [
      "Hello World!\n"
     ]
    }
   ],
   "source": [
    "print('Hello World!')"
   ]
  },
  {
   "cell_type": "markdown",
   "id": "a62d397a",
   "metadata": {},
   "source": [
    "# hello"
   ]
  },
  {
   "cell_type": "code",
   "execution_count": 14,
   "id": "05b7682a",
   "metadata": {},
   "outputs": [
    {
     "name": "stdout",
     "output_type": "stream",
     "text": [
      "What is your first name?\n",
      "James\n",
      "What is your last name?\n",
      "Dizdar\n",
      "Hello James Dizdar\n"
     ]
    }
   ],
   "source": [
    "first_name = input('What is your first name?\\n')\n",
    "last_name = input('What is your last name?\\n')\n",
    "hi = 'Hello'\n",
    "greeting = hi + \" \" + first_name + \" \" + last_name\n",
    "print(greeting)"
   ]
  },
  {
   "cell_type": "code",
   "execution_count": 13,
   "id": "62acc17c",
   "metadata": {},
   "outputs": [
    {
     "name": "stdout",
     "output_type": "stream",
     "text": [
      "Hello Pratima Dizdar\n"
     ]
    }
   ],
   "source": [
    "print(greeting)"
   ]
  },
  {
   "cell_type": "code",
   "execution_count": 16,
   "id": "0690327d",
   "metadata": {},
   "outputs": [
    {
     "name": "stdout",
     "output_type": "stream",
     "text": [
      "How much is the bill?\n",
      "100\n",
      "How much do you want to tip?\n",
      "0.18\n",
      "118.0\n"
     ]
    }
   ],
   "source": [
    "amount = input('How much is the bill?\\n')\n",
    "tip = input('How much do you want to tip?\\n')\n",
    "total = int(amount) + int(amount)* float(tip)\n",
    "print(total)"
   ]
  },
  {
   "cell_type": "code",
   "execution_count": null,
   "id": "54fa7f98",
   "metadata": {},
   "outputs": [],
   "source": []
  }
 ],
 "metadata": {
  "kernelspec": {
   "display_name": "Python 3 (ipykernel)",
   "language": "python",
   "name": "python3"
  },
  "language_info": {
   "codemirror_mode": {
    "name": "ipython",
    "version": 3
   },
   "file_extension": ".py",
   "mimetype": "text/x-python",
   "name": "python",
   "nbconvert_exporter": "python",
   "pygments_lexer": "ipython3",
   "version": "3.11.0"
  }
 },
 "nbformat": 4,
 "nbformat_minor": 5
}
